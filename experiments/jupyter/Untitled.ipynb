{
 "cells": [
  {
   "cell_type": "code",
   "execution_count": 1,
   "metadata": {},
   "outputs": [],
   "source": [
    "from PIL import Image\n",
    "import numpy as np\n",
    "import numpy.ma as ma"
   ]
  },
  {
   "cell_type": "code",
   "execution_count": 2,
   "metadata": {},
   "outputs": [],
   "source": [
    "list_label = []\n",
    "list_rgb = []\n",
    "list_depth = []\n",
    "objlist = [1]\n",
    "list_obj = []\n",
    "list_rank = []\n",
    "item_count = 0\n",
    "root = \"/home/huffie/Documents/PoseEstimation/DenseFusion/datasets/linemod/Linemod_preprocessed\"\n",
    "mode = \"test\"\n",
    "for item in objlist:\n",
    "    # 找到对应的文件夹，开始读取数据集\n",
    "    if mode == 'train':\n",
    "        input_file = open('{0}/data/{1}/train.txt'.format(root, '%02d' % item))\n",
    "    else:\n",
    "        input_file = open('{0}/data/{1}/test.txt'.format(root, '%02d' % item))\n",
    "    while 1:\n",
    "        item_count += 1\n",
    "        input_line = input_file.readline()\n",
    "        if mode == 'test' and item_count % 10 != 0:\n",
    "            continue\n",
    "        if not input_line:\n",
    "            break\n",
    "        if input_line[-1:] == '\\n':\n",
    "            input_line = input_line[:-1]\n",
    "        # 添加RGB图路径\n",
    "        list_rgb.append('{0}/data/{1}/rgb/{2}.png'.format(root, '%02d' % item, input_line))\n",
    "        # 添加深度图路径\n",
    "        list_depth.append('{0}/data/{1}/depth/{2}.png'.format(root, '%02d' % item, input_line))\n",
    "        # 如果模式为eval\n",
    "        if mode == 'eval':\n",
    "            # 添加语义分割之后的标签\n",
    "            list_label.append('{0}/segnet_results/{1}_label/{2}_label.png'.format(root, '%02d' % item, input_line))\n",
    "        else:\n",
    "            # 否则添加标准的mask\n",
    "            list_label.append('{0}/data/{1}/mask/{2}.png'.format(root, '%02d' % item, input_line))\n",
    "        # 添加类别号\n",
    "        list_obj.append(item)\n",
    "        # 添加图片编号\n",
    "        list_rank.append(int(input_line))"
   ]
  },
  {
   "cell_type": "code",
   "execution_count": 6,
   "metadata": {},
   "outputs": [
    {
     "data": {
      "text/plain": [
       "(480, 640, 3)"
      ]
     },
     "execution_count": 6,
     "metadata": {},
     "output_type": "execute_result"
    }
   ],
   "source": [
    "img = Image.open(list_rgb[0])\n",
    "ori_img = np.array(img)\n",
    "# mask_label = ma.getmaskarray(ma.masked_equal(label, np.array([255, 255, 255])))[:, :, 0]\n",
    "ori_img.shape\n"
   ]
  },
  {
   "cell_type": "code",
   "execution_count": null,
   "metadata": {},
   "outputs": [],
   "source": []
  }
 ],
 "metadata": {
  "kernelspec": {
   "display_name": "Python 3 (ipykernel)",
   "language": "python",
   "name": "python3"
  },
  "language_info": {
   "codemirror_mode": {
    "name": "ipython",
    "version": 3
   },
   "file_extension": ".py",
   "mimetype": "text/x-python",
   "name": "python",
   "nbconvert_exporter": "python",
   "pygments_lexer": "ipython3",
   "version": "3.7.0"
  }
 },
 "nbformat": 4,
 "nbformat_minor": 2
}
